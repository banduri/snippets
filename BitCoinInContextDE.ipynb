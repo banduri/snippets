{
 "cells": [
  {
   "cell_type": "markdown",
   "metadata": {},
   "source": [
    "Wie bewerte ich eigentlich Bitcoins? \n",
    "===================="
   ]
  },
  {
   "cell_type": "markdown",
   "metadata": {},
   "source": [
    "erstmal ein paar Zahlen zu Deutschland von https://de.wikipedia.org/wiki/Deutschland. und von https://de.wikipedia.org/wiki/Staatsverschuldung_Deutschlands\n",
    "Stand: 31. Dezember 2015 insgesamt 2.022,6 Milliarden Euro"
   ]
  },
  {
   "cell_type": "code",
   "execution_count": 7,
   "metadata": {
    "collapsed": true
   },
   "outputs": [],
   "source": [
    "(mil,mrd,bil) = (pow(10,6),pow(10,9),pow(10,12))\n",
    "\n",
    "bip_de=3466639*mil # USD\n",
    "einwohner = int(82457000)\n",
    "verschuldung=2022.6*mrd\n",
    "bip_wo=119884004*mil # bip der Welt"
   ]
  },
  {
   "cell_type": "markdown",
   "metadata": {},
   "source": [
    "Für Deutschland ergibt sich damit ein"
   ]
  },
  {
   "cell_type": "code",
   "execution_count": 11,
   "metadata": {},
   "outputs": [
    {
     "name": "stdout",
     "output_type": "stream",
     "text": [
      "Staatsverschuldungsquotien: 50.82%\n"
     ]
    }
   ],
   "source": [
    "print(\"Staatsverschuldungsquotien: %.2f%%\" %(100*verschuldung/bip_de))"
   ]
  },
  {
   "cell_type": "markdown",
   "metadata": {},
   "source": [
    "sanity check\n",
    "--------------\n",
    "https://de.wikipedia.org/wiki/Liste_europ%C3%A4ischer_L%C3%A4nder_nach_Staatsschuldenquote spricht von 68,2 mit der \n",
    "Anmerkung dies sei eine Schätzung. Das ist ok für mich ich will ja nur die Größenordnung von BitCoins wissen.\n"
   ]
  },
  {
   "cell_type": "markdown",
   "metadata": {},
   "source": [
    "Marktkapitalisierung von BitCoin:\n",
    "---------------------------------\n",
    "Auf https://blockchainbdgpzk.onion/ (resp https://blockchain.info) bekommt man die Marktkapetalisierung angezeigt.\n",
    "Stand: Dec 25 2017"
   ]
  },
  {
   "cell_type": "code",
   "execution_count": 9,
   "metadata": {
    "collapsed": true
   },
   "outputs": [],
   "source": [
    "marktkap=233*mrd #USD"
   ]
  },
  {
   "cell_type": "markdown",
   "metadata": {},
   "source": [
    "Würde man diesen Markt auflösen, wieviel würde dann jeder Einwohner Deutschlands bekommen? Wie verhält sich das mit BIP und Staatsverschuldung?"
   ]
  },
  {
   "cell_type": "code",
   "execution_count": 26,
   "metadata": {},
   "outputs": [
    {
     "name": "stdout",
     "output_type": "stream",
     "text": [
      "USD pro Einwohner dank BitCoins: 2825.72\n",
      "Anteil am BIP: 0.0585%\n",
      "Anteil an der Staatsverschuldung: 0.1152%\n"
     ]
    }
   ],
   "source": [
    "print(\"USD pro Einwohner dank BitCoins: %.2f\" %(marktkap/einwohner))\n",
    "print(\"Anteil am BIP: %.4f%%\" %(marktkap/bip_de))\n",
    "print(\"Anteil an der Staatsverschuldung: %.4f%%\" %(marktkap/verschuldung))"
   ]
  },
  {
   "cell_type": "markdown",
   "metadata": {},
   "source": [
    "nett\n",
    "----\n",
    "Mir war vorher nicht klar, in welchen Dimensionen von Geld hier gedacht werden muss. Die Maximale Anzahl von BitCoins ist 21,0 Millionen und jedes BitCoin lässt sich in 100 Millionen Satoshi (sat) aufteilen. Wir haben also "
   ]
  },
  {
   "cell_type": "code",
   "execution_count": 22,
   "metadata": {
    "collapsed": true
   },
   "outputs": [],
   "source": [
    "btcunits=21*mil*100*mil # Unteilbare Einheiten"
   ]
  },
  {
   "cell_type": "markdown",
   "metadata": {},
   "source": [
    "gut. Ich kann damit also schonmal die Staatsverschuldung von Deutschland abbilden..."
   ]
  },
  {
   "cell_type": "code",
   "execution_count": 23,
   "metadata": {},
   "outputs": [
    {
     "data": {
      "text/plain": [
       "True"
      ]
     },
     "execution_count": 23,
     "metadata": {},
     "output_type": "execute_result"
    }
   ],
   "source": [
    "verschuldungunits = verschuldung * 100 # Euros lassen sich in Cents aufteilen\n",
    "btcunits > verschuldungunits"
   ]
  },
  {
   "cell_type": "markdown",
   "metadata": {},
   "source": [
    "Wieviele Länder mit ähnlicher Staatsverschuldung könnte man damit abbilden? Und was ist mit dem BIP der Welt?"
   ]
  },
  {
   "cell_type": "code",
   "execution_count": 29,
   "metadata": {},
   "outputs": [
    {
     "name": "stdout",
     "output_type": "stream",
     "text": [
      "Abbildbare Staatsverschuldungen: 10.38\n",
      "Anteil Welt BIP: 17.52%\n"
     ]
    }
   ],
   "source": [
    "bip_wo_units= bip_wo*100\n",
    "print(\"Abbildbare Staatsverschuldungen: %.2f\" %(btcunits/verschuldungunits))\n",
    "print(\"Anteil Welt BIP: %.2f%%\" %(100*btcunits/bip_wo_units))"
   ]
  },
  {
   "cell_type": "code",
   "execution_count": null,
   "metadata": {
    "collapsed": true
   },
   "outputs": [],
   "source": []
  }
 ],
 "metadata": {
  "kernelspec": {
   "display_name": "Python 3",
   "language": "python",
   "name": "python3"
  },
  "language_info": {
   "codemirror_mode": {
    "name": "ipython",
    "version": 3
   },
   "file_extension": ".py",
   "mimetype": "text/x-python",
   "name": "python",
   "nbconvert_exporter": "python",
   "pygments_lexer": "ipython3",
   "version": "3.6.3"
  }
 },
 "nbformat": 4,
 "nbformat_minor": 2
}
